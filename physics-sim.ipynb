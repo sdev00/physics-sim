{
 "cells": [
  {
   "cell_type": "code",
   "execution_count": 1,
   "metadata": {},
   "outputs": [
    {
     "name": "stdout",
     "output_type": "stream",
     "text": [
      "pygame 2.1.2 (SDL 2.0.18, Python 3.8.5)\n",
      "Hello from the pygame community. https://www.pygame.org/contribute.html\n",
      "pygame-menu 4.2.2\n"
     ]
    }
   ],
   "source": [
    "import pygame\n",
    "import pygame_menu\n",
    "\n",
    "def main_menu(window):\n",
    "    menu = pygame_menu.Menu('Physics Simulator', 400, 400,\n",
    "                            theme=pygame_menu.themes.THEME_DARK)\n",
    "    menu.add.button('Play', start)\n",
    "    menu.add.button('Quit', pygame_menu.events.EXIT)\n",
    "\n",
    "    for event in pygame.event.get():\n",
    "        if event.type == pygame.QUIT:\n",
    "            return\n",
    "\n",
    "    menu.mainloop(window)\n",
    "\n",
    "    # menu.add.button('Level Select', load_peg_file_menu, False)\n",
    "    # menu.add.button('Create', create_level, [])\n",
    "    # menu.add.button('Full Screen', full_screen_toggle)"
   ]
  },
  {
   "cell_type": "code",
   "execution_count": 2,
   "metadata": {},
   "outputs": [],
   "source": [
    "def start():\n",
    "    while True:\n",
    "        window.fill((255, 255, 255))\n",
    "\n",
    "        lizard_rect = pygame.Rect((width / 2 - 10, height / 2 - 10), (100, 100))\n",
    "        pygame.draw.rect(window, (128, 128, 128), lizard_rect)\n",
    "\n",
    "        for event in pygame.event.get():\n",
    "            if event.type == pygame.QUIT:\n",
    "                pygame.quit()\n",
    "                quit()\n",
    "\n",
    "        pygame.display.update()\n",
    "        clock.tick(FPS)"
   ]
  },
  {
   "cell_type": "code",
   "execution_count": null,
   "metadata": {},
   "outputs": [
    {
     "name": "stdout",
     "output_type": "stream",
     "text": [
      "Starting pygame window...\n",
      "Starting main menu...\n"
     ]
    }
   ],
   "source": [
    "def main():\n",
    "    # pygame initialization\n",
    "    print('Starting pygame window...')\n",
    "    pygame.init()\n",
    "    window = pygame.display.set_mode((0, 0), pygame.FULLSCREEN)  # Window size 0,0 because starting in full screen\n",
    "    width, height = window.get_size()\n",
    "    pygame.display.set_caption(\"Lizard Game\")\n",
    "\n",
    "    clock = pygame.time.Clock()\n",
    "    FPS = 60\n",
    "    width, height = window.get_size()\n",
    "\n",
    "    print('Starting main menu...')\n",
    "    main_menu(window)\n",
    "    \n",
    "main()"
   ]
  }
 ],
 "metadata": {
  "kernelspec": {
   "display_name": "Python 3",
   "language": "python",
   "name": "python3"
  },
  "language_info": {
   "codemirror_mode": {
    "name": "ipython",
    "version": 3
   },
   "file_extension": ".py",
   "mimetype": "text/x-python",
   "name": "python",
   "nbconvert_exporter": "python",
   "pygments_lexer": "ipython3",
   "version": "3.8.5"
  }
 },
 "nbformat": 4,
 "nbformat_minor": 4
}
