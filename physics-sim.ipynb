{
 "cells": [
  {
   "cell_type": "markdown",
   "metadata": {},
   "source": [
    "# Physics Simulator\n",
    "Experimental Project by Sahil Dev"
   ]
  },
  {
   "cell_type": "code",
   "execution_count": 5,
   "metadata": {},
   "outputs": [],
   "source": [
    "import pygame\n",
    "import pygame_menu\n",
    "import numpy as np"
   ]
  },
  {
   "cell_type": "markdown",
   "metadata": {},
   "source": [
    "## Class Definitions"
   ]
  },
  {
   "cell_type": "code",
   "execution_count": 76,
   "metadata": {},
   "outputs": [
    {
     "data": {
      "text/plain": [
       "Vec2D([3., 0.])"
      ]
     },
     "execution_count": 76,
     "metadata": {},
     "output_type": "execute_result"
    }
   ],
   "source": [
    "# class Vec1D(np.ndarray):\n",
    "#     def __new__(cls, magnitude):\n",
    "#         if isinstance(magnitude, float):\n",
    "#             return np.asarray(magnitude).view(cls)\n",
    "#         raise Exception('Vec2D must be 1 dimensional.')\n",
    "    \n",
    "class Vec2D(np.ndarray):\n",
    "    def __new__(cls, iterable):\n",
    "        if len(iterable) != 2:\n",
    "            raise Exception('Vec2D must be 2 dimensional.')\n",
    "        vec = np.asarray(iterable).view(cls)\n",
    "        return vec\n",
    "        \n",
    "    def x(self):\n",
    "        return self[0]\n",
    "    \n",
    "    def y(self):\n",
    "        return self[1]\n",
    "    \n",
    "a, b = Vec2D([2, 1]), Vec2D([2, 4])\n",
    "c = 2*a - b/2\n",
    "c"
   ]
  },
  {
   "cell_type": "code",
   "execution_count": 86,
   "metadata": {},
   "outputs": [
    {
     "name": "stdout",
     "output_type": "stream",
     "text": [
      "t=0\tpos=[  0 380]\t vel=[0 0]\n",
      "t=3\tpos=[  0.     335.8685]\t vel=[  0.    -29.421]\n",
      "t=6\tpos=[  0.    203.474]\t vel=[  0.    -58.842]\n",
      "t=9\tpos=[  0.     -17.1835]\t vel=[  0.    -88.263]\n"
     ]
    }
   ],
   "source": [
    "class Position(Vec2D):\n",
    "    def distance(self, point):\n",
    "        return numpy.linalg.norm(self, point)\n",
    "    \n",
    "    def xdistance(self, point):\n",
    "        return abs(self.x() - point.x())\n",
    "    \n",
    "    def ydistance(self, point):\n",
    "        return abs(self.y() - point.y())\n",
    "    \n",
    "    def update(self, timestep, velocity, acceleration=Acceleration([0, 0])):\n",
    "        return self + acceleration/2 * (timestep**2) + velocity * timestep\n",
    "\n",
    "class Velocity(Vec2D):\n",
    "    def update(self, timestep, acceleration):\n",
    "        return self + timestep * acceleration\n",
    "\n",
    "class Acceleration(Vec2D):\n",
    "    pass\n",
    "\n",
    "acc = Acceleration((0, -9.807))\n",
    "vel = Velocity((0, 0))\n",
    "pos = Position((0, 380))\n",
    "\n",
    "# it takes just under 9 seconds to fall from the empire state building\n",
    "for i in range(4):\n",
    "    print(f't={3 * i}\\tpos={pos}\\t vel={vel}')\n",
    "    pos = pos.update(3, vel, acc)\n",
    "    vel = vel.update(3, acc)"
   ]
  },
  {
   "cell_type": "code",
   "execution_count": 89,
   "metadata": {},
   "outputs": [],
   "source": [
    "# represents any object within the game environment\n",
    "class GameObject:\n",
    "    def __init__(self):\n",
    "        pass\n",
    "    \n",
    "    def update(self, timestep):\n",
    "        raise NotImplementedError('Must override abstract method.')\n",
    "    \n",
    "    def checkCollision(self, gameobject):\n",
    "        raise NotImplementedError('Must override abstract method.')\n",
    "\n",
    "    def onCollision(self, gameobject):\n",
    "        raise NotImplementedError('Must override abstract method.')\n",
    "        \n",
    "class Viewport(GameObject):\n",
    "    def __init__(self, low, high):\n",
    "        super().__init__()\n",
    "        self.low = low\n",
    "        self.high = high\n",
    "    \n",
    "    def update(self, timestep):\n",
    "        pass\n",
    "    \n",
    "    def checkCollision(self, gameobject):\n",
    "        return gameobject.checkCollision(self)\n",
    "    \n",
    "    def onCollision(self, gameobject):\n",
    "        pass"
   ]
  },
  {
   "cell_type": "code",
   "execution_count": 90,
   "metadata": {},
   "outputs": [],
   "source": [
    "# constants\n",
    "\n",
    "GRAVITY = Acceleration((0, -9.807))\n",
    "ORIGIN = Position((0, 0))\n",
    "NO_VELOCITY = Velocity((0, 0))\n",
    "NO_ACCELERATION = Acceleration((0, 0))\n",
    "\n",
    "# x = -10m to +10m, y = 0m to +20m\n",
    "DEFAULT_VIEWPORT = Viewport(Position((-10, 0)), Position((10, 20)))"
   ]
  },
  {
   "cell_type": "code",
   "execution_count": null,
   "metadata": {},
   "outputs": [],
   "source": [
    "# represents an object that responds to physics\n",
    "class PhysicsObject(GameObject):\n",
    "    def __init__(self, mass, position, velocity=NO_VELOCITY, gravity=GRAVITY, bounciness=1):\n",
    "        super().__init__()\n",
    "        self.mass = mass\n",
    "        self.position = position\n",
    "        self.velocity = velocity\n",
    "\n",
    "    def update(self, timestep):\n",
    "        self.position = self.pos.update(timestep, self.velocity, self.acceleration)\n",
    "        self.velocity = self.velocity.update.update(timestep, self.acceleration)\n",
    "        self.acceleration = self.acceleration # no-op\n",
    "        \n",
    "class Circle(PhysicsObject):\n",
    "    def __init__(self, mass, center, radius, velocity=NO_VELOCITY, gravity=GRAVITY, bounciness=1):\n",
    "        super().__init__(mass, center, velocity=velocity, gravity=gravity)\n",
    "        self.radius = radius\n",
    "    \n",
    "    def checkCollision(self, gameobject):\n",
    "        if isinstance(gameobject, Viewport):\n",
    "            lowx_collision = (self.x() - Viewport.low.x()) < self.radius\n",
    "            lowy_collision = (self.y() - Viewport.low.y()) < self.radius\n",
    "            highx_collision = (Viewport.high.x() - self.x()) < self.radius\n",
    "            highy_collision = (Viewport.high.y() - self.y()) < self.radius\n",
    "            return lowx_collision or lowy_collision or highx_collision or highy_collision\n",
    "        \n",
    "        if isinstance(gameobject, Circle):\n",
    "            return self.position.distance()\n",
    "    \n",
    "    def onCollision(self, gameobject):\n",
    "        if isinstance(gameobject, Viewport):\n",
    "            \n",
    "        if isinstance(gameobject, Circle):\n",
    "            "
   ]
  },
  {
   "cell_type": "code",
   "execution_count": null,
   "metadata": {},
   "outputs": [],
   "source": [
    "class Game:\n",
    "    def __init__(self, viewport, objects):\n",
    "        self.viewport = viewport\n",
    "        self.objects = objects\n",
    "        \n",
    "    def update(self, timestep):\n",
    "        self.viewport.update() # probably won't ever do anything\n",
    "        \n",
    "        # run update step on all objects\n",
    "        for gameobject in self.objects:\n",
    "            gameobject.update()\n",
    "        \n",
    "        # run collision check against viewport\n",
    "        for gameobject in self.objects:\n",
    "            if gameobject.checkCollision(viewport):\n",
    "                gameobject.onCollision(viewport)\n",
    "        \n",
    "        # run collision check on all object pairs\n",
    "        for index, gameobject1 in enumerate(self.objects):\n",
    "            for gameobject2 in self.objects[index:]\n",
    "            \n",
    "                # check only one direction, should be symmetric (we'll see about that lol)\n",
    "                if gameobject1.checkCollision(gameobject2):\n",
    "                    \n",
    "                    # run collision method for each object in collision\n",
    "                    gameobject1.onCollision(gameobject2)\n",
    "                    gameobject2.onCollision(gameobject1)"
   ]
  },
  {
   "cell_type": "code",
   "execution_count": 2,
   "metadata": {},
   "outputs": [],
   "source": [
    "def start(window, clock=pygame.time.Clock(), fps=60):\n",
    "    width, height = window.get_size()\n",
    "    \n",
    "    running = True\n",
    "    while running:\n",
    "        # draw current frame\n",
    "        window.fill((255, 255, 255))\n",
    "        lizard_rect = pygame.Rect((width / 2 - 10, height / 2 - 10), (100, 100))\n",
    "        pygame.draw.rect(window, (128, 128, 128), lizard_rect)\n",
    "        \n",
    "        # update\n",
    "        pygame.display.update()\n",
    "        clock.tick(fps)\n",
    "\n",
    "        for event in pygame.event.get():\n",
    "            if event.type == pygame.QUIT:\n",
    "                running = False\n",
    "            elif event.type == pygame.KEYDOWN:\n",
    "                if event.key == pygame.K_q:\n",
    "                    running = False\n"
   ]
  },
  {
   "cell_type": "code",
   "execution_count": 3,
   "metadata": {},
   "outputs": [],
   "source": [
    "def main_menu(window):\n",
    "    \n",
    "    def start_game():\n",
    "        clock = pygame.time.Clock()\n",
    "        FPS = 60\n",
    "        start(window, clock=clock, fps=FPS)\n",
    "    \n",
    "    menu = pygame_menu.Menu('Physics Simulator', 400, 400,\n",
    "                            theme=pygame_menu.themes.THEME_DARK)\n",
    "    menu.add.button('Play', start_game)\n",
    "    menu.add.button('Quit', pygame_menu.events.EXIT)\n",
    "\n",
    "    for event in pygame.event.get():\n",
    "        if event.type == pygame.QUIT:\n",
    "            return\n",
    "\n",
    "    menu.mainloop(window)\n",
    "\n",
    "    # menu.add.button('Level Select', load_peg_file_menu, False)\n",
    "    # menu.add.button('Create', create_level, [])\n",
    "    # menu.add.button('Full Screen', full_screen_toggle)"
   ]
  },
  {
   "cell_type": "code",
   "execution_count": 4,
   "metadata": {},
   "outputs": [],
   "source": [
    "def main():\n",
    "    # pygame initialization\n",
    "    print('Starting pygame window...')\n",
    "    pygame.init()\n",
    "    window = pygame.display.set_mode((0, 0), pygame.FULLSCREEN) # window size 0,0 for full screen\n",
    "    pygame.display.set_caption(\"Physics Simulator\")\n",
    "\n",
    "    print('Starting main menu...')\n",
    "    main_menu(window)"
   ]
  },
  {
   "cell_type": "code",
   "execution_count": 91,
   "metadata": {},
   "outputs": [
    {
     "ename": "NameError",
     "evalue": "name 'main' is not defined",
     "output_type": "error",
     "traceback": [
      "\u001b[1;31m---------------------------------------------------------------------------\u001b[0m",
      "\u001b[1;31mNameError\u001b[0m                                 Traceback (most recent call last)",
      "\u001b[1;32m<ipython-input-91-263240bbee7e>\u001b[0m in \u001b[0;36m<module>\u001b[1;34m\u001b[0m\n\u001b[1;32m----> 1\u001b[1;33m \u001b[0mmain\u001b[0m\u001b[1;33m(\u001b[0m\u001b[1;33m)\u001b[0m\u001b[1;33m\u001b[0m\u001b[1;33m\u001b[0m\u001b[0m\n\u001b[0m",
      "\u001b[1;31mNameError\u001b[0m: name 'main' is not defined"
     ]
    }
   ],
   "source": [
    "main()"
   ]
  }
 ],
 "metadata": {
  "kernelspec": {
   "display_name": "Python 3",
   "language": "python",
   "name": "python3"
  },
  "language_info": {
   "codemirror_mode": {
    "name": "ipython",
    "version": 3
   },
   "file_extension": ".py",
   "mimetype": "text/x-python",
   "name": "python",
   "nbconvert_exporter": "python",
   "pygments_lexer": "ipython3",
   "version": "3.8.5"
  }
 },
 "nbformat": 4,
 "nbformat_minor": 4
}
