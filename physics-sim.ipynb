{
 "cells": [
  {
   "cell_type": "code",
   "execution_count": 5,
   "metadata": {},
   "outputs": [],
   "source": [
    "import pygame\n",
    "import pygame_menu\n",
    "import numpy as np"
   ]
  },
  {
   "cell_type": "code",
   "execution_count": 76,
   "metadata": {},
   "outputs": [
    {
     "data": {
      "text/plain": [
       "Vec2D([3., 0.])"
      ]
     },
     "execution_count": 76,
     "metadata": {},
     "output_type": "execute_result"
    }
   ],
   "source": [
    "# class Vec1D(np.ndarray):\n",
    "#     def __new__(cls, magnitude):\n",
    "#         if isinstance(magnitude, float):\n",
    "#             return np.asarray(magnitude).view(cls)\n",
    "#         raise Exception('Vec2D must be 1 dimensional.')\n",
    "    \n",
    "class Vec2D(np.ndarray):\n",
    "    def __new__(cls, iterable):\n",
    "        if len(iterable) != 2:\n",
    "            raise Exception('Vec2D must be 2 dimensional.')\n",
    "        vec = np.asarray(iterable).view(cls)\n",
    "        return vec\n",
    "        \n",
    "    def x(self):\n",
    "        return self[0]\n",
    "    \n",
    "    def y(self):\n",
    "        return self[1]\n",
    "    \n",
    "a, b = Vec2D([2, 1]), Vec2D([2, 4])\n",
    "c = 2*a - b/2\n",
    "c"
   ]
  },
  {
   "cell_type": "code",
   "execution_count": 77,
   "metadata": {},
   "outputs": [],
   "source": [
    "class Position(Vec2D):\n",
    "    def distance(self, point):\n",
    "        return numpy.linalg.norm(self, point)\n",
    "    \n",
    "    def xdistance(self, point):\n",
    "        return abs(self.x() - point.x())\n",
    "    \n",
    "    def ydistance(self, point):\n",
    "        return abs(self.y() - point.y())\n",
    "    \n",
    "    def update(self, timestep, velocity, acceleration=Acceleration([0, 0])):\n",
    "        return self + acceleration/2 * (timestep**2) + velocity * timestep\n",
    "\n",
    "class Velocity(Vec2D):\n",
    "    def update(self, timestep, acceleration):\n",
    "        return self + timestep * acceleration\n",
    "\n",
    "class Acceleration(Vec2D):\n",
    "    pass\n",
    "\n",
    "class Viewport:\n",
    "    def __init__(self, low, high):\n",
    "        self.low = low\n",
    "        self.high = high"
   ]
  },
  {
   "cell_type": "code",
   "execution_count": 75,
   "metadata": {},
   "outputs": [],
   "source": [
    "# constants\n",
    "\n",
    "GRAVITY = Acceleration((0, -9.807))\n",
    "ORIGIN = Position((0, 0))\n",
    "NO_VELOCITY = Velocity((0, 0))\n",
    "NO_ACCELERATION = Acceleration((0, 0))\n",
    "\n",
    "# x = -10m to +10m, y = 0m to +20m\n",
    "DEFAULT_VIEWPORT = Viewport(Position((-10, 0)), Position((10, 20)))"
   ]
  },
  {
   "cell_type": "code",
   "execution_count": 74,
   "metadata": {},
   "outputs": [
    {
     "name": "stdout",
     "output_type": "stream",
     "text": [
      "t=0\tpos=[  0 380]\t vel=[0 0]\n",
      "t=1\tpos=[  0.     375.0965]\t vel=[ 0.    -9.807]\n",
      "t=2\tpos=[  0.    360.386]\t vel=[  0.    -19.614]\n",
      "t=3\tpos=[  0.     335.8685]\t vel=[  0.    -29.421]\n",
      "t=4\tpos=[  0.    301.544]\t vel=[  0.    -39.228]\n",
      "t=5\tpos=[  0.     257.4125]\t vel=[  0.    -49.035]\n",
      "t=6\tpos=[  0.    203.474]\t vel=[  0.    -58.842]\n",
      "t=7\tpos=[  0.     139.7285]\t vel=[  0.    -68.649]\n",
      "t=8\tpos=[ 0.    66.176]\t vel=[  0.    -78.456]\n",
      "t=9\tpos=[  0.     -17.1835]\t vel=[  0.    -88.263]\n"
     ]
    }
   ],
   "source": [
    "acc = GRAVITY\n",
    "vel = Velocity((0, 0))\n",
    "pos = Position((0, 380))\n",
    "\n",
    "# it takes just under 9 seconds to fall from the empire state building\n",
    "for i in range(10):\n",
    "    print(f't={i}\\tpos={pos}\\t vel={vel}')\n",
    "    pos = pos.update(1, vel, acc)\n",
    "    vel = vel.update(1, acc)"
   ]
  },
  {
   "cell_type": "code",
   "execution_count": 70,
   "metadata": {},
   "outputs": [],
   "source": [
    "class GameObject:\n",
    "    def __init__(self):\n",
    "        pass\n",
    "    \n",
    "    def update(self):\n",
    "        raise NotImplementedError('Must override abstract method.')\n",
    "\n",
    "class PhysicsObject(GameObject):\n",
    "    def __init__(self, mass, position, velocity=NO_VELOCITY, gravity=GRAVITY, bounciness=1):\n",
    "        self.mass = mass\n",
    "        self.position = position\n",
    "        self.velocity = velocity\n",
    "\n",
    "    def update(self, timestep):\n",
    "        pass\n",
    "\n",
    "    def onCollision(self, gameobject):\n",
    "        raise NotImplementedError('Must override abstract method.')\n",
    "        \n",
    "class PhysicsObject(GameObject):\n",
    "    def __init__(self, mass, center, radius, velocity=NO_VELOCITY, gravity=GRAVITY, bounciness=1):\n",
    "        super().__init__(mass, center, velocity=velocity, gravity=gravity)\n",
    "        self.radius = radius"
   ]
  },
  {
   "cell_type": "code",
   "execution_count": null,
   "metadata": {},
   "outputs": [],
   "source": [
    "class Game:\n",
    "    def __init__(self, objects):\n",
    "        self.objects = objects\n",
    "        \n",
    "    def update(self, timestep):\n",
    "        for gameobject in self.objects:\n",
    "            gameobject.update()"
   ]
  },
  {
   "cell_type": "code",
   "execution_count": 2,
   "metadata": {},
   "outputs": [],
   "source": [
    "def start(window, clock=pygame.time.Clock(), fps=60):\n",
    "    width, height = window.get_size()\n",
    "    \n",
    "    running = True\n",
    "    while running:\n",
    "        # draw current frame\n",
    "        window.fill((255, 255, 255))\n",
    "        lizard_rect = pygame.Rect((width / 2 - 10, height / 2 - 10), (100, 100))\n",
    "        pygame.draw.rect(window, (128, 128, 128), lizard_rect)\n",
    "        \n",
    "        # update\n",
    "        pygame.display.update()\n",
    "        clock.tick(fps)\n",
    "\n",
    "        for event in pygame.event.get():\n",
    "            if event.type == pygame.QUIT:\n",
    "                running = False\n",
    "            elif event.type == pygame.KEYDOWN:\n",
    "                if event.key == pygame.K_q:\n",
    "                    running = False\n"
   ]
  },
  {
   "cell_type": "code",
   "execution_count": 3,
   "metadata": {},
   "outputs": [],
   "source": [
    "def main_menu(window):\n",
    "    \n",
    "    def start_game():\n",
    "        clock = pygame.time.Clock()\n",
    "        FPS = 60\n",
    "        start(window, clock=clock, fps=FPS)\n",
    "    \n",
    "    menu = pygame_menu.Menu('Physics Simulator', 400, 400,\n",
    "                            theme=pygame_menu.themes.THEME_DARK)\n",
    "    menu.add.button('Play', start_game)\n",
    "    menu.add.button('Quit', pygame_menu.events.EXIT)\n",
    "\n",
    "    for event in pygame.event.get():\n",
    "        if event.type == pygame.QUIT:\n",
    "            return\n",
    "\n",
    "    menu.mainloop(window)\n",
    "\n",
    "    # menu.add.button('Level Select', load_peg_file_menu, False)\n",
    "    # menu.add.button('Create', create_level, [])\n",
    "    # menu.add.button('Full Screen', full_screen_toggle)"
   ]
  },
  {
   "cell_type": "code",
   "execution_count": 4,
   "metadata": {},
   "outputs": [],
   "source": [
    "def main():\n",
    "    # pygame initialization\n",
    "    print('Starting pygame window...')\n",
    "    pygame.init()\n",
    "    window = pygame.display.set_mode((0, 0), pygame.FULLSCREEN) # window size 0,0 for full screen\n",
    "    pygame.display.set_caption(\"Physics Simulator\")\n",
    "\n",
    "    print('Starting main menu...')\n",
    "    main_menu(window)"
   ]
  },
  {
   "cell_type": "code",
   "execution_count": 5,
   "metadata": {},
   "outputs": [
    {
     "name": "stdout",
     "output_type": "stream",
     "text": [
      "Starting pygame window...\n",
      "Starting main menu...\n"
     ]
    }
   ],
   "source": [
    "main()"
   ]
  }
 ],
 "metadata": {
  "kernelspec": {
   "display_name": "Python 3",
   "language": "python",
   "name": "python3"
  },
  "language_info": {
   "codemirror_mode": {
    "name": "ipython",
    "version": 3
   },
   "file_extension": ".py",
   "mimetype": "text/x-python",
   "name": "python",
   "nbconvert_exporter": "python",
   "pygments_lexer": "ipython3",
   "version": "3.8.5"
  }
 },
 "nbformat": 4,
 "nbformat_minor": 4
}
